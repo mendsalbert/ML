{
 "cells": [
  {
   "cell_type": "code",
   "execution_count": null,
   "metadata": {},
   "outputs": [],
   "source": [
    "# linear regression with gradient Descent\n",
    "\n",
    "import pandas as pd\n",
    "import matplotlib.pyplot as plt\n",
    "import torch\n",
    "%matplotlib inline"
   ]
  },
  {
   "cell_type": "code",
   "execution_count": null,
   "metadata": {},
   "outputs": [],
   "source": [
    "class LinearRegression1():\n",
    "    def __init__(self,num_features):\n",
    "        self.num_features = num_features\n",
    "        self.weights = torch.zeros(num_features,1,dtype=torch.fload)\n",
    "        self.bias = torch.zeros(1, dtype=torch.float)\n",
    "\n",
    "    def forward(self,x):\n",
    "        netinputs =  torch.add(torch.mm(x,self.weights), self.bias)\n",
    "        activations = netinputs\n",
    "        return activations.view(-1)\n",
    "    \n",
    "    def backward(self, x , yhat, y):\n",
    "        grad_loss_yhat = 2*(y-yhat)\n",
    "\n",
    "        grad_yhat_weights = -x\n",
    "        grad_yhat_bias = -1.\n",
    "\n",
    "        grad_loss_weight = torch.mm(grad_yhat_weights.t(), grad_loss_yhat.view(-1,1))/y.size(0)\n",
    "\n",
    "        grad_loss_bias = torch.sum(grad_loss_yhat*grad_loss_yhat)/y.size(0)\n",
    "\n",
    "        return (-1)*grad_loss_weight, (-1)*grad_loss_bias\n",
    "\n",
    "    def loss(yhat,y):\n",
    "        return torch.mean((yhat - y)**2)\n",
    "    \n",
    "    def train(model,x,y,num_epochs, learning_rate=0.01):\n",
    "        cost = []\n",
    "        for e in range(num_epochs):\n",
    "            # computer inputs\n",
    "            yhat = model.forward(x)\n",
    "            \n",
    "            # compute gradients\n",
    "            negative_grad_w ,negative_grad_b = model.backward(x, yhat, y)\n",
    "\n",
    "            model.weights += learning_rate * negative_grad_w\n",
    "            model.bias += learning_rate * negative_grad_b\n",
    "\n",
    "\n"
   ]
  }
 ],
 "metadata": {
  "language_info": {
   "name": "python"
  },
  "orig_nbformat": 4
 },
 "nbformat": 4,
 "nbformat_minor": 2
}
